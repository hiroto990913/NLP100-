{
 "cells": [
  {
   "cell_type": "code",
   "execution_count": 3,
   "metadata": {},
   "outputs": [
    {
     "data": {
      "text/html": [
       "<div>\n",
       "<style scoped>\n",
       "    .dataframe tbody tr th:only-of-type {\n",
       "        vertical-align: middle;\n",
       "    }\n",
       "\n",
       "    .dataframe tbody tr th {\n",
       "        vertical-align: top;\n",
       "    }\n",
       "\n",
       "    .dataframe thead th {\n",
       "        text-align: right;\n",
       "    }\n",
       "</style>\n",
       "<table border=\"1\" class=\"dataframe\">\n",
       "  <thead>\n",
       "    <tr style=\"text-align: right;\">\n",
       "      <th></th>\n",
       "      <th>0</th>\n",
       "      <th>1</th>\n",
       "      <th>2</th>\n",
       "      <th>3</th>\n",
       "    </tr>\n",
       "  </thead>\n",
       "  <tbody>\n",
       "    <tr>\n",
       "      <td>0</td>\n",
       "      <td>Mary</td>\n",
       "      <td>F</td>\n",
       "      <td>7065</td>\n",
       "      <td>1880</td>\n",
       "    </tr>\n",
       "    <tr>\n",
       "      <td>1</td>\n",
       "      <td>Anna</td>\n",
       "      <td>F</td>\n",
       "      <td>2604</td>\n",
       "      <td>1880</td>\n",
       "    </tr>\n",
       "    <tr>\n",
       "      <td>2</td>\n",
       "      <td>Emma</td>\n",
       "      <td>F</td>\n",
       "      <td>2003</td>\n",
       "      <td>1880</td>\n",
       "    </tr>\n",
       "    <tr>\n",
       "      <td>3</td>\n",
       "      <td>Elizabeth</td>\n",
       "      <td>F</td>\n",
       "      <td>1939</td>\n",
       "      <td>1880</td>\n",
       "    </tr>\n",
       "    <tr>\n",
       "      <td>4</td>\n",
       "      <td>Minnie</td>\n",
       "      <td>F</td>\n",
       "      <td>1746</td>\n",
       "      <td>1880</td>\n",
       "    </tr>\n",
       "  </tbody>\n",
       "</table>\n",
       "</div>"
      ],
      "text/plain": [
       "           0  1     2     3\n",
       "0       Mary  F  7065  1880\n",
       "1       Anna  F  2604  1880\n",
       "2       Emma  F  2003  1880\n",
       "3  Elizabeth  F  1939  1880\n",
       "4     Minnie  F  1746  1880"
      ]
     },
     "execution_count": 3,
     "metadata": {},
     "output_type": "execute_result"
    }
   ],
   "source": [
    "import pandas as pd\n",
    "context = pd.read_table('popular-names.txt',header=None)\n",
    "context.head()"
   ]
  },
  {
   "cell_type": "markdown",
   "metadata": {},
   "source": [
    "# 10. 行数のカウント\n",
    "行数をカウントせよ．確認にはwcコマンドを用いよ．"
   ]
  },
  {
   "cell_type": "code",
   "execution_count": 11,
   "metadata": {},
   "outputs": [
    {
     "data": {
      "text/plain": [
       "2780"
      ]
     },
     "execution_count": 11,
     "metadata": {},
     "output_type": "execute_result"
    }
   ],
   "source": [
    "len(context)"
   ]
  },
  {
   "cell_type": "code",
   "execution_count": 75,
   "metadata": {},
   "outputs": [
    {
     "name": "stdout",
     "output_type": "stream",
     "text": [
      " 2780 11120 55026 popular-names.txt\n"
     ]
    }
   ],
   "source": [
    "!wc  popular-names.txt"
   ]
  },
  {
   "cell_type": "markdown",
   "metadata": {},
   "source": [
    "# 11. タブをスペースに置換\n",
    "タブ1文字につきスペース1文字に置換せよ．確認にはsedコマンド，trコマンド，もしくはexpandコマンドを用いよ"
   ]
  },
  {
   "cell_type": "code",
   "execution_count": 59,
   "metadata": {},
   "outputs": [
    {
     "data": {
      "text/html": [
       "<div>\n",
       "<style scoped>\n",
       "    .dataframe tbody tr th:only-of-type {\n",
       "        vertical-align: middle;\n",
       "    }\n",
       "\n",
       "    .dataframe tbody tr th {\n",
       "        vertical-align: top;\n",
       "    }\n",
       "\n",
       "    .dataframe thead th {\n",
       "        text-align: right;\n",
       "    }\n",
       "</style>\n",
       "<table border=\"1\" class=\"dataframe\">\n",
       "  <thead>\n",
       "    <tr style=\"text-align: right;\">\n",
       "      <th></th>\n",
       "      <th>0</th>\n",
       "      <th>1</th>\n",
       "      <th>2</th>\n",
       "      <th>3</th>\n",
       "    </tr>\n",
       "  </thead>\n",
       "  <tbody>\n",
       "    <tr>\n",
       "      <td>0</td>\n",
       "      <td>Mary</td>\n",
       "      <td>F</td>\n",
       "      <td>7065</td>\n",
       "      <td>1880</td>\n",
       "    </tr>\n",
       "    <tr>\n",
       "      <td>1</td>\n",
       "      <td>Anna</td>\n",
       "      <td>F</td>\n",
       "      <td>2604</td>\n",
       "      <td>1880</td>\n",
       "    </tr>\n",
       "    <tr>\n",
       "      <td>2</td>\n",
       "      <td>Emma</td>\n",
       "      <td>F</td>\n",
       "      <td>2003</td>\n",
       "      <td>1880</td>\n",
       "    </tr>\n",
       "    <tr>\n",
       "      <td>3</td>\n",
       "      <td>Elizabeth</td>\n",
       "      <td>F</td>\n",
       "      <td>1939</td>\n",
       "      <td>1880</td>\n",
       "    </tr>\n",
       "    <tr>\n",
       "      <td>4</td>\n",
       "      <td>Minnie</td>\n",
       "      <td>F</td>\n",
       "      <td>1746</td>\n",
       "      <td>1880</td>\n",
       "    </tr>\n",
       "  </tbody>\n",
       "</table>\n",
       "</div>"
      ],
      "text/plain": [
       "           0  1     2     3\n",
       "0       Mary  F  7065  1880\n",
       "1       Anna  F  2604  1880\n",
       "2       Emma  F  2003  1880\n",
       "3  Elizabeth  F  1939  1880\n",
       "4     Minnie  F  1746  1880"
      ]
     },
     "execution_count": 59,
     "metadata": {},
     "output_type": "execute_result"
    }
   ],
   "source": [
    "context = pd.read_table('popular-names.txt',header=None)\n",
    "context.head()"
   ]
  },
  {
   "cell_type": "code",
   "execution_count": 74,
   "metadata": {},
   "outputs": [
    {
     "name": "stdout",
     "output_type": "stream",
     "text": [
      "Mary F 7065 1880\n",
      "Anna F 2604 1880\n",
      "Emma F 2003 1880\n",
      "Elizabeth F 1939 1880\n",
      "Minnie F 1746 1880\n",
      "sed: couldn't write 17 items to stdout: Broken pipe\n"
     ]
    }
   ],
   "source": [
    "!sed 's/\\t/ /g' popular-names.txt | head -5 "
   ]
  },
  {
   "cell_type": "markdown",
   "metadata": {},
   "source": [
    "# 12. 1列目をcol1.txtに，2列目をcol2.txtに保存\n",
    "各行の1列目だけを抜き出したものをcol1.txtに，2列目だけを抜き出したものをcol2.txtとしてファイルに保存せよ．確認にはcutコマンドを用いよ．"
   ]
  },
  {
   "cell_type": "code",
   "execution_count": 24,
   "metadata": {},
   "outputs": [
    {
     "data": {
      "text/plain": [
       "(0         Mary\n",
       " 1         Anna\n",
       " 2         Emma\n",
       " 3    Elizabeth\n",
       " 4       Minnie\n",
       " Name: 0, dtype: object, 0    F\n",
       " 1    F\n",
       " 2    F\n",
       " 3    F\n",
       " 4    F\n",
       " Name: 1, dtype: object)"
      ]
     },
     "execution_count": 24,
     "metadata": {},
     "output_type": "execute_result"
    }
   ],
   "source": [
    "col1 = context.iloc[:,0]\n",
    "col2 = context.iloc[:,1]\n",
    "col1.head(),col2.head()"
   ]
  },
  {
   "cell_type": "code",
   "execution_count": 26,
   "metadata": {},
   "outputs": [],
   "source": [
    "import numpy as np\n",
    "np.savetxt('col1.txt', col1, fmt=\"%s\")\n",
    "np.savetxt('col2.txt', col2, fmt=\"%s\")"
   ]
  },
  {
   "cell_type": "code",
   "execution_count": 73,
   "metadata": {},
   "outputs": [
    {
     "name": "stdout",
     "output_type": "stream",
     "text": [
      "Mary\tF\n",
      "Anna\tF\n",
      "Emma\tF\n",
      "Elizabeth\tF\n",
      "Minnie\tF\n"
     ]
    }
   ],
   "source": [
    "!head -5 popular-names.txt | cut -f 1,2"
   ]
  },
  {
   "cell_type": "markdown",
   "metadata": {},
   "source": [
    "# 13. col1.txtとcol2.txtをマージ\n",
    "12で作ったcol1.txtとcol2.txtを結合し，元のファイルの1列目と2列目をタブ区切りで並べたテキストファイルを作成せよ．確認にはpasteコマンドを用いよ"
   ]
  },
  {
   "cell_type": "code",
   "execution_count": 55,
   "metadata": {},
   "outputs": [],
   "source": [
    "def file_merge(x,y):\n",
    "    X = pd.read_table(x,header=None)\n",
    "    Y = pd.read_table(y,header=None)\n",
    "    concat = pd.concat([X,Y],axis=1)\n",
    "    concat.to_csv('concat.txt',sep='\\t')\n",
    "file_merge('col1.txt','col2.txt')"
   ]
  },
  {
   "cell_type": "code",
   "execution_count": 18,
   "metadata": {},
   "outputs": [
    {
     "name": "stdout",
     "output_type": "stream",
     "text": [
      "Mary\tF\n",
      "Anna\tF\n",
      "Emma\tF\n",
      "Elizabeth\tF\n",
      "Minnie\tF\n",
      "paste: write error: Broken pipe\n",
      "paste: write error\n"
     ]
    }
   ],
   "source": [
    "!paste -d '\\t' col1.txt col2.txt | head -5"
   ]
  },
  {
   "cell_type": "markdown",
   "metadata": {},
   "source": [
    "# 14. 先頭からN行を出力\n",
    "自然数Nをコマンドライン引数などの手段で受け取り，入力のうち先頭のN行だけを表示せよ．確認にはheadコマンドを用いよ"
   ]
  },
  {
   "cell_type": "code",
   "execution_count": 72,
   "metadata": {},
   "outputs": [
    {
     "name": "stdout",
     "output_type": "stream",
     "text": [
      "Mary\tF\t7065\t1880\n",
      "Anna\tF\t2604\t1880\n",
      "Emma\tF\t2003\t1880\n",
      "Elizabeth\tF\t1939\t1880\n",
      "Minnie\tF\t1746\t1880\n"
     ]
    }
   ],
   "source": [
    "!head -5 popular-names.txt"
   ]
  },
  {
   "cell_type": "code",
   "execution_count": 33,
   "metadata": {},
   "outputs": [
    {
     "data": {
      "text/html": [
       "<div>\n",
       "<style scoped>\n",
       "    .dataframe tbody tr th:only-of-type {\n",
       "        vertical-align: middle;\n",
       "    }\n",
       "\n",
       "    .dataframe tbody tr th {\n",
       "        vertical-align: top;\n",
       "    }\n",
       "\n",
       "    .dataframe thead th {\n",
       "        text-align: right;\n",
       "    }\n",
       "</style>\n",
       "<table border=\"1\" class=\"dataframe\">\n",
       "  <thead>\n",
       "    <tr style=\"text-align: right;\">\n",
       "      <th></th>\n",
       "      <th>0</th>\n",
       "      <th>1</th>\n",
       "      <th>2</th>\n",
       "      <th>3</th>\n",
       "    </tr>\n",
       "  </thead>\n",
       "  <tbody>\n",
       "    <tr>\n",
       "      <td>0</td>\n",
       "      <td>Mary</td>\n",
       "      <td>F</td>\n",
       "      <td>7065</td>\n",
       "      <td>1880</td>\n",
       "    </tr>\n",
       "    <tr>\n",
       "      <td>1</td>\n",
       "      <td>Anna</td>\n",
       "      <td>F</td>\n",
       "      <td>2604</td>\n",
       "      <td>1880</td>\n",
       "    </tr>\n",
       "    <tr>\n",
       "      <td>2</td>\n",
       "      <td>Emma</td>\n",
       "      <td>F</td>\n",
       "      <td>2003</td>\n",
       "      <td>1880</td>\n",
       "    </tr>\n",
       "    <tr>\n",
       "      <td>3</td>\n",
       "      <td>Elizabeth</td>\n",
       "      <td>F</td>\n",
       "      <td>1939</td>\n",
       "      <td>1880</td>\n",
       "    </tr>\n",
       "    <tr>\n",
       "      <td>4</td>\n",
       "      <td>Minnie</td>\n",
       "      <td>F</td>\n",
       "      <td>1746</td>\n",
       "      <td>1880</td>\n",
       "    </tr>\n",
       "  </tbody>\n",
       "</table>\n",
       "</div>"
      ],
      "text/plain": [
       "           0  1     2     3\n",
       "0       Mary  F  7065  1880\n",
       "1       Anna  F  2604  1880\n",
       "2       Emma  F  2003  1880\n",
       "3  Elizabeth  F  1939  1880\n",
       "4     Minnie  F  1746  1880"
      ]
     },
     "execution_count": 33,
     "metadata": {},
     "output_type": "execute_result"
    }
   ],
   "source": [
    "context.head(5)"
   ]
  },
  {
   "cell_type": "markdown",
   "metadata": {},
   "source": [
    "# 15. 末尾のN行を出力\n",
    "自然数Nをコマンドライン引数などの手段で受け取り，入力のうち末尾のN行だけを表示せよ．確認にはtailコマンドを用いよ．"
   ]
  },
  {
   "cell_type": "code",
   "execution_count": 71,
   "metadata": {},
   "outputs": [
    {
     "name": "stdout",
     "output_type": "stream",
     "text": [
      "Benjamin\tM\t13381\t2018\n",
      "Elijah\tM\t12886\t2018\n",
      "Lucas\tM\t12585\t2018\n",
      "Mason\tM\t12435\t2018\n",
      "Logan\tM\t12352\t2018\n"
     ]
    }
   ],
   "source": [
    "!tail -5 popular-names.txt"
   ]
  },
  {
   "cell_type": "code",
   "execution_count": 6,
   "metadata": {},
   "outputs": [
    {
     "data": {
      "text/html": [
       "<div>\n",
       "<style scoped>\n",
       "    .dataframe tbody tr th:only-of-type {\n",
       "        vertical-align: middle;\n",
       "    }\n",
       "\n",
       "    .dataframe tbody tr th {\n",
       "        vertical-align: top;\n",
       "    }\n",
       "\n",
       "    .dataframe thead th {\n",
       "        text-align: right;\n",
       "    }\n",
       "</style>\n",
       "<table border=\"1\" class=\"dataframe\">\n",
       "  <thead>\n",
       "    <tr style=\"text-align: right;\">\n",
       "      <th></th>\n",
       "      <th>0</th>\n",
       "      <th>1</th>\n",
       "      <th>2</th>\n",
       "      <th>3</th>\n",
       "    </tr>\n",
       "  </thead>\n",
       "  <tbody>\n",
       "    <tr>\n",
       "      <td>2775</td>\n",
       "      <td>Benjamin</td>\n",
       "      <td>M</td>\n",
       "      <td>13381</td>\n",
       "      <td>2018</td>\n",
       "    </tr>\n",
       "    <tr>\n",
       "      <td>2776</td>\n",
       "      <td>Elijah</td>\n",
       "      <td>M</td>\n",
       "      <td>12886</td>\n",
       "      <td>2018</td>\n",
       "    </tr>\n",
       "    <tr>\n",
       "      <td>2777</td>\n",
       "      <td>Lucas</td>\n",
       "      <td>M</td>\n",
       "      <td>12585</td>\n",
       "      <td>2018</td>\n",
       "    </tr>\n",
       "    <tr>\n",
       "      <td>2778</td>\n",
       "      <td>Mason</td>\n",
       "      <td>M</td>\n",
       "      <td>12435</td>\n",
       "      <td>2018</td>\n",
       "    </tr>\n",
       "    <tr>\n",
       "      <td>2779</td>\n",
       "      <td>Logan</td>\n",
       "      <td>M</td>\n",
       "      <td>12352</td>\n",
       "      <td>2018</td>\n",
       "    </tr>\n",
       "  </tbody>\n",
       "</table>\n",
       "</div>"
      ],
      "text/plain": [
       "             0  1      2     3\n",
       "2775  Benjamin  M  13381  2018\n",
       "2776    Elijah  M  12886  2018\n",
       "2777     Lucas  M  12585  2018\n",
       "2778     Mason  M  12435  2018\n",
       "2779     Logan  M  12352  2018"
      ]
     },
     "execution_count": 6,
     "metadata": {},
     "output_type": "execute_result"
    }
   ],
   "source": [
    "context.tail(5)"
   ]
  },
  {
   "cell_type": "markdown",
   "metadata": {},
   "source": [
    "# 16. ファイルをN分割する\n",
    "自然数Nをコマンドライン引数などの手段で受け取り，入力のファイルを行単位でN分割せよ．同様の処理をsplitコマンドで実現せよ．"
   ]
  },
  {
   "cell_type": "code",
   "execution_count": 78,
   "metadata": {},
   "outputs": [],
   "source": [
    "def file_split(file, n):\n",
    "    file = pd.read_table(file,header=None)\n",
    "    start_idx = 0\n",
    "    div_idx = int(len(file) / n)\n",
    "    end_idx = div_idx\n",
    "    for i in range(n):\n",
    "        if end_idx <= (len(file)-div_idx):\n",
    "            file_1 = file.iloc[start_idx:end_idx,:]\n",
    "            print(file_1.head())\n",
    "            start_idx += div_idx\n",
    "            end_idx += div_idx\n",
    "            \n",
    "        elif end_idx > (len(file)-div_idx):\n",
    "            file_2 = file.iloc[start_idx:len(file),:]\n",
    "            start_idx += div_idx\n",
    "            print(file_2.head())\n",
    "            "
   ]
  },
  {
   "cell_type": "code",
   "execution_count": 82,
   "metadata": {},
   "outputs": [
    {
     "name": "stdout",
     "output_type": "stream",
     "text": [
      "           0  1     2     3\n",
      "0       Mary  F  7065  1880\n",
      "1       Anna  F  2604  1880\n",
      "2       Emma  F  2003  1880\n",
      "3  Elizabeth  F  1939  1880\n",
      "4     Minnie  F  1746  1880\n",
      "            0  1      2     3\n",
      "1390    James  M  86857  1949\n",
      "1391   Robert  M  83872  1949\n",
      "1392     John  M  81161  1949\n",
      "1393  William  M  61501  1949\n",
      "1394  Michael  M  60046  1949\n"
     ]
    }
   ],
   "source": [
    "file_split('popular-names.txt', 2)"
   ]
  },
  {
   "cell_type": "code",
   "execution_count": 70,
   "metadata": {},
   "outputs": [
    {
     "name": "stdout",
     "output_type": "stream",
     "text": [
      "Mary\tF\t7065\t1880\n",
      "Anna\tF\t2604\t1880\n",
      "Emma\tF\t2003\t1880\n",
      "Elizabeth\tF\t1939\t1880\n",
      "Minnie\tF\t1746\t1880\n",
      "James\tM\t86857\t1949\n",
      "Robert\tM\t83872\t1949\n",
      "John\tM\t81161\t1949\n",
      "William\tM\t61501\t1949\n",
      "Michael\tM\t60046\t1949\n"
     ]
    }
   ],
   "source": [
    "#!split -n 2 'popular-names.txt' pn-\n",
    "!split -l 1390 popular-names.txt pn-\n",
    "!head -5 pn-aa\n",
    "!head -5 pn-ab"
   ]
  },
  {
   "cell_type": "markdown",
   "metadata": {},
   "source": [
    "# 17. １列目の文字列の異なり\n",
    "1列目の文字列の種類（異なる文字列の集合）を求めよ．確認にはcut, sort, uniqコマンドを用いよ"
   ]
  },
  {
   "cell_type": "code",
   "execution_count": 10,
   "metadata": {},
   "outputs": [
    {
     "data": {
      "text/plain": [
       "array(['Mary', 'Anna', 'Emma', 'Elizabeth', 'Minnie', 'Margaret', 'Ida',\n",
       "       'Alice', 'Bertha', 'Sarah', 'John', 'William', 'James', 'Charles',\n",
       "       'George', 'Frank', 'Joseph', 'Thomas', 'Henry', 'Robert', 'Annie',\n",
       "       'Edward', 'Clara', 'Florence', 'Ethel', 'Bessie', 'Harry', 'Helen',\n",
       "       'Ruth', 'Marie', 'Lillian', 'Mildred', 'Dorothy', 'Frances',\n",
       "       'Walter', 'Evelyn', 'Virginia', 'Richard', 'Betty', 'Donald',\n",
       "       'Doris', 'Shirley', 'Barbara', 'Patricia', 'Joan', 'Nancy',\n",
       "       'Carol', 'David', 'Ronald', 'Judith', 'Linda', 'Sandra', 'Carolyn',\n",
       "       'Sharon', 'Michael', 'Susan', 'Donna', 'Larry', 'Kathleen',\n",
       "       'Deborah', 'Gary', 'Karen', 'Debra', 'Pamela', 'Cynthia', 'Mark',\n",
       "       'Steven', 'Lisa', 'Jeffrey', 'Lori', 'Kimberly', 'Tammy', 'Angela',\n",
       "       'Michelle', 'Jennifer', 'Melissa', 'Christopher', 'Brian', 'Amy',\n",
       "       'Laura', 'Tracy', 'Julie', 'Jason', 'Scott', 'Stephanie',\n",
       "       'Heather', 'Nicole', 'Matthew', 'Rebecca', 'Jessica', 'Amanda',\n",
       "       'Daniel', 'Kelly', 'Joshua', 'Crystal', 'Ashley', 'Megan',\n",
       "       'Brittany', 'Andrew', 'Justin', 'Samantha', 'Lauren', 'Emily',\n",
       "       'Brandon', 'Tyler', 'Taylor', 'Nicholas', 'Jacob', 'Hannah',\n",
       "       'Austin', 'Alexis', 'Rachel', 'Madison', 'Abigail', 'Olivia',\n",
       "       'Ethan', 'Anthony', 'Isabella', 'Ava', 'Sophia', 'Chloe',\n",
       "       'Alexander', 'Mia', 'Jayden', 'Noah', 'Aiden', 'Mason', 'Liam',\n",
       "       'Charlotte', 'Harper', 'Benjamin', 'Elijah', 'Amelia', 'Logan',\n",
       "       'Oliver', 'Lucas'], dtype=object)"
      ]
     },
     "execution_count": 10,
     "metadata": {},
     "output_type": "execute_result"
    }
   ],
   "source": [
    "context.iloc[:,0].unique()"
   ]
  },
  {
   "cell_type": "code",
   "execution_count": 69,
   "metadata": {},
   "outputs": [
    {
     "name": "stdout",
     "output_type": "stream",
     "text": [
      "Abigail\n",
      "Aiden\n",
      "Alexander\n",
      "Alexis\n",
      "Alice\n",
      "Amanda\n",
      "Amelia\n",
      "Amy\n",
      "Andrew\n",
      "Angela\n",
      "Anna\n",
      "Annie\n",
      "Anthony\n",
      "Ashley\n",
      "Austin\n",
      "Ava\n",
      "Barbara\n",
      "Benjamin\n",
      "Bertha\n",
      "Bessie\n",
      "Betty\n",
      "Brandon\n",
      "Brian\n",
      "Brittany\n",
      "Carol\n",
      "Carolyn\n",
      "Charles\n",
      "Charlotte\n",
      "Chloe\n",
      "Christopher\n",
      "Clara\n",
      "Crystal\n",
      "Cynthia\n",
      "Daniel\n",
      "David\n",
      "Deborah\n",
      "Debra\n",
      "Donald\n",
      "Donna\n",
      "Doris\n",
      "Dorothy\n",
      "Edward\n",
      "Elijah\n",
      "Elizabeth\n",
      "Emily\n",
      "Emma\n",
      "Ethan\n",
      "Ethel\n",
      "Evelyn\n",
      "Florence\n",
      "Frances\n",
      "Frank\n",
      "Gary\n",
      "George\n",
      "Hannah\n",
      "Harper\n",
      "Harry\n",
      "Heather\n",
      "Helen\n",
      "Henry\n",
      "Ida\n",
      "Isabella\n",
      "Jacob\n",
      "James\n",
      "Jason\n",
      "Jayden\n",
      "Jeffrey\n",
      "Jennifer\n",
      "Jessica\n",
      "Joan\n",
      "John\n",
      "Joseph\n",
      "Joshua\n",
      "Judith\n",
      "Julie\n",
      "Justin\n",
      "Karen\n",
      "Kathleen\n",
      "Kelly\n",
      "Kimberly\n",
      "Larry\n",
      "Laura\n",
      "Lauren\n",
      "Liam\n",
      "Lillian\n",
      "Linda\n",
      "Lisa\n",
      "Logan\n",
      "Lori\n",
      "Lucas\n",
      "Madison\n",
      "Margaret\n",
      "Marie\n",
      "Mark\n",
      "Mary\n",
      "Mason\n",
      "Matthew\n",
      "Megan\n",
      "Melissa\n",
      "Mia\n",
      "Michael\n",
      "Michelle\n",
      "Mildred\n",
      "Minnie\n",
      "Nancy\n",
      "Nicholas\n",
      "Nicole\n",
      "Noah\n",
      "Oliver\n",
      "Olivia\n",
      "Pamela\n",
      "Patricia\n",
      "Rachel\n",
      "Rebecca\n",
      "Richard\n",
      "Robert\n",
      "Ronald\n",
      "Ruth\n",
      "Samantha\n",
      "Sandra\n",
      "Sarah\n",
      "Scott\n",
      "Sharon\n",
      "Shirley\n",
      "Sophia\n",
      "Stephanie\n",
      "Steven\n",
      "Susan\n",
      "Tammy\n",
      "Taylor\n",
      "Thomas\n",
      "Tracy\n",
      "Tyler\n",
      "Virginia\n",
      "Walter\n",
      "William\n"
     ]
    }
   ],
   "source": [
    "!cut -f1 popular-names.txt | sort | uniq"
   ]
  },
  {
   "cell_type": "markdown",
   "metadata": {},
   "source": [
    "# 18. 各行を3コラム目の数値の降順にソート\n",
    "各行を3コラム目の数値の逆順で整列せよ（注意: 各行の内容は変更せずに並び替えよ）．確認にはsortコマンドを用いよ（この問題はコマンドで実行した時の結果と合わなくてもよい）"
   ]
  },
  {
   "cell_type": "code",
   "execution_count": 41,
   "metadata": {},
   "outputs": [
    {
     "data": {
      "text/html": [
       "<div>\n",
       "<style scoped>\n",
       "    .dataframe tbody tr th:only-of-type {\n",
       "        vertical-align: middle;\n",
       "    }\n",
       "\n",
       "    .dataframe tbody tr th {\n",
       "        vertical-align: top;\n",
       "    }\n",
       "\n",
       "    .dataframe thead th {\n",
       "        text-align: right;\n",
       "    }\n",
       "</style>\n",
       "<table border=\"1\" class=\"dataframe\">\n",
       "  <thead>\n",
       "    <tr style=\"text-align: right;\">\n",
       "      <th></th>\n",
       "      <th>0</th>\n",
       "      <th>1</th>\n",
       "      <th>2</th>\n",
       "      <th>3</th>\n",
       "    </tr>\n",
       "  </thead>\n",
       "  <tbody>\n",
       "    <tr>\n",
       "      <td>1340</td>\n",
       "      <td>Linda</td>\n",
       "      <td>F</td>\n",
       "      <td>99689</td>\n",
       "      <td>1947</td>\n",
       "    </tr>\n",
       "    <tr>\n",
       "      <td>1360</td>\n",
       "      <td>Linda</td>\n",
       "      <td>F</td>\n",
       "      <td>96211</td>\n",
       "      <td>1948</td>\n",
       "    </tr>\n",
       "    <tr>\n",
       "      <td>1350</td>\n",
       "      <td>James</td>\n",
       "      <td>M</td>\n",
       "      <td>94757</td>\n",
       "      <td>1947</td>\n",
       "    </tr>\n",
       "    <tr>\n",
       "      <td>1550</td>\n",
       "      <td>Michael</td>\n",
       "      <td>M</td>\n",
       "      <td>92704</td>\n",
       "      <td>1957</td>\n",
       "    </tr>\n",
       "    <tr>\n",
       "      <td>1351</td>\n",
       "      <td>Robert</td>\n",
       "      <td>M</td>\n",
       "      <td>91640</td>\n",
       "      <td>1947</td>\n",
       "    </tr>\n",
       "    <tr>\n",
       "      <td>...</td>\n",
       "      <td>...</td>\n",
       "      <td>...</td>\n",
       "      <td>...</td>\n",
       "      <td>...</td>\n",
       "    </tr>\n",
       "    <tr>\n",
       "      <td>27</td>\n",
       "      <td>Annie</td>\n",
       "      <td>F</td>\n",
       "      <td>1326</td>\n",
       "      <td>1881</td>\n",
       "    </tr>\n",
       "    <tr>\n",
       "      <td>28</td>\n",
       "      <td>Bertha</td>\n",
       "      <td>F</td>\n",
       "      <td>1324</td>\n",
       "      <td>1881</td>\n",
       "    </tr>\n",
       "    <tr>\n",
       "      <td>8</td>\n",
       "      <td>Bertha</td>\n",
       "      <td>F</td>\n",
       "      <td>1320</td>\n",
       "      <td>1880</td>\n",
       "    </tr>\n",
       "    <tr>\n",
       "      <td>29</td>\n",
       "      <td>Alice</td>\n",
       "      <td>F</td>\n",
       "      <td>1308</td>\n",
       "      <td>1881</td>\n",
       "    </tr>\n",
       "    <tr>\n",
       "      <td>9</td>\n",
       "      <td>Sarah</td>\n",
       "      <td>F</td>\n",
       "      <td>1288</td>\n",
       "      <td>1880</td>\n",
       "    </tr>\n",
       "  </tbody>\n",
       "</table>\n",
       "<p>2780 rows × 4 columns</p>\n",
       "</div>"
      ],
      "text/plain": [
       "            0  1      2     3\n",
       "1340    Linda  F  99689  1947\n",
       "1360    Linda  F  96211  1948\n",
       "1350    James  M  94757  1947\n",
       "1550  Michael  M  92704  1957\n",
       "1351   Robert  M  91640  1947\n",
       "...       ... ..    ...   ...\n",
       "27      Annie  F   1326  1881\n",
       "28     Bertha  F   1324  1881\n",
       "8      Bertha  F   1320  1880\n",
       "29      Alice  F   1308  1881\n",
       "9       Sarah  F   1288  1880\n",
       "\n",
       "[2780 rows x 4 columns]"
      ]
     },
     "execution_count": 41,
     "metadata": {},
     "output_type": "execute_result"
    }
   ],
   "source": [
    "context.sort_values(2,ascending=False)"
   ]
  },
  {
   "cell_type": "code",
   "execution_count": 68,
   "metadata": {},
   "outputs": [
    {
     "name": "stdout",
     "output_type": "stream",
     "text": [
      "Linda F 99689 1947\n",
      "James M 9951 1911\n",
      "Mildred F 9921 1913\n",
      "Mary F 9889 1886\n",
      "Mary F 9888 1887\n"
     ]
    }
   ],
   "source": [
    "!sed 's/\\t/ /g' popular-names.txt |sort -k 3r,3  |head -5"
   ]
  },
  {
   "cell_type": "markdown",
   "metadata": {},
   "source": [
    "# 19. 各行の1コラム目の文字列の出現頻度を求め，出現頻度の高い順に並べる\n",
    "各行の1列目の文字列の出現頻度を求め，その高い順に並べて表示せよ．確認にはcut, uniq, sortコマンドを用いよ．"
   ]
  },
  {
   "cell_type": "code",
   "execution_count": 58,
   "metadata": {},
   "outputs": [
    {
     "data": {
      "text/plain": [
       "James      118\n",
       "William    111\n",
       "Robert     108\n",
       "John       108\n",
       "Mary        92\n",
       "          ... \n",
       "Lori         1\n",
       "Kelly        1\n",
       "Scott        1\n",
       "Walter       1\n",
       "Lucas        1\n",
       "Name: 0, Length: 136, dtype: int64"
      ]
     },
     "execution_count": 58,
     "metadata": {},
     "output_type": "execute_result"
    }
   ],
   "source": [
    "context.loc[:,0].value_counts()"
   ]
  },
  {
   "cell_type": "code",
   "execution_count": 78,
   "metadata": {},
   "outputs": [
    {
     "name": "stdout",
     "output_type": "stream",
     "text": [
      "    118 James\n",
      "    111 William\n",
      "    108 Robert\n",
      "    108 John\n",
      "     92 Mary\n",
      "     75 Charles\n",
      "     74 Michael\n",
      "     73 Elizabeth\n",
      "     70 Joseph\n",
      "     60 Margaret\n",
      "     58 Thomas\n",
      "     58 George\n",
      "     57 David\n",
      "     51 Richard\n",
      "     45 Helen\n",
      "     43 Frank\n",
      "     43 Christopher\n",
      "     41 Anna\n",
      "     40 Edward\n",
      "     39 Ruth\n",
      "     38 Patricia\n",
      "     37 Matthew\n",
      "     36 Dorothy\n",
      "     35 Emma\n",
      "     32 Barbara\n",
      "     31 Joshua\n",
      "     31 Daniel\n",
      "     26 Sarah\n",
      "     26 Linda\n",
      "     26 Jennifer\n",
      "     26 Emily\n",
      "     25 Jessica\n",
      "     25 Jacob\n",
      "     24 Susan\n",
      "     24 Mildred\n",
      "     24 Betty\n",
      "     23 Henry\n",
      "     23 Ashley\n",
      "     22 Nancy\n",
      "     21 Andrew\n",
      "     20 Marie\n",
      "     20 Florence\n",
      "     20 Donald\n",
      "     20 Amanda\n",
      "     19 Samantha\n",
      "     18 Olivia\n",
      "     18 Melissa\n",
      "     18 Madison\n",
      "     18 Lisa\n",
      "     18 Karen\n",
      "     17 Stephanie\n",
      "     17 Abigail\n",
      "     16 Sandra\n",
      "     16 Mark\n",
      "     16 Ethel\n",
      "     15 Michelle\n",
      "     15 Isabella\n",
      "     15 Heather\n",
      "     15 Frances\n",
      "     15 Ethan\n",
      "     15 Carol\n",
      "     15 Angela\n",
      "     14 Shirley\n",
      "     14 Kimberly\n",
      "     14 Ava\n",
      "     14 Amy\n",
      "     13 Virginia\n",
      "     13 Sophia\n",
      "     13 Nicole\n",
      "     13 Jason\n",
      "     13 Hannah\n",
      "     13 Deborah\n",
      "     13 Brian\n",
      "     12 Minnie\n",
      "     12 Donna\n",
      "     12 Bertha\n",
      "     11 Cynthia\n",
      "     10 Ronald\n",
      "     10 Noah\n",
      "     10 Nicholas\n",
      "     10 Mia\n",
      "     10 Doris\n",
      "     10 Brittany\n",
      "     10 Alice\n",
      "      9 Tyler\n",
      "      9 Joan\n",
      "      9 Debra\n",
      "      8 Taylor\n",
      "      8 Mason\n",
      "      8 Judith\n",
      "      8 Ida\n",
      "      8 Clara\n",
      "      8 Alexis\n",
      "      8 Alexander\n",
      "      7 Tammy\n",
      "      7 Steven\n",
      "      7 Sharon\n",
      "      7 Liam\n",
      "      7 Harry\n",
      "      7 Brandon\n",
      "      6 Anthony\n",
      "      5 Jeffrey\n",
      "      5 Jayden\n",
      "      5 Gary\n",
      "      5 Charlotte\n",
      "      5 Annie\n",
      "      4 Lillian\n",
      "      4 Kathleen\n",
      "      4 Justin\n",
      "      4 Chloe\n",
      "      4 Benjamin\n",
      "      4 Austin\n",
      "      3 Megan\n",
      "      3 Harper\n",
      "      3 Evelyn\n",
      "      3 Elijah\n",
      "      3 Aiden\n",
      "      2 Rebecca\n",
      "      2 Oliver\n",
      "      2 Logan\n",
      "      2 Lauren\n",
      "      2 Larry\n",
      "      2 Bessie\n",
      "      2 Amelia\n",
      "      1 Walter\n",
      "      1 Tracy\n",
      "      1 Scott\n",
      "      1 Rachel\n",
      "      1 Pamela\n",
      "      1 Lucas\n",
      "      1 Lori\n",
      "      1 Laura\n",
      "      1 Kelly\n",
      "      1 Julie\n",
      "      1 Crystal\n",
      "      1 Carolyn\n"
     ]
    }
   ],
   "source": [
    "!sort col1.txt |uniq -c |sort -r"
   ]
  },
  {
   "cell_type": "code",
   "execution_count": null,
   "metadata": {},
   "outputs": [],
   "source": []
  }
 ],
 "metadata": {
  "kernelspec": {
   "display_name": "Python 3",
   "language": "python",
   "name": "python3"
  },
  "language_info": {
   "codemirror_mode": {
    "name": "ipython",
    "version": 3
   },
   "file_extension": ".py",
   "mimetype": "text/x-python",
   "name": "python",
   "nbconvert_exporter": "python",
   "pygments_lexer": "ipython3",
   "version": "3.7.4"
  }
 },
 "nbformat": 4,
 "nbformat_minor": 4
}
